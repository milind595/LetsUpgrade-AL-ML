{
 "cells": [
  {
   "cell_type": "markdown",
   "metadata": {},
   "source": [
    "### Hypothesis statements are as follows:-"
   ]
  },
  {
   "cell_type": "markdown",
   "metadata": {},
   "source": [
    "__Statement 1:- The average age of employee in a company is 35 with standard deviation 9.A reasearcher believes that if age is less than 35 there is higher attrition rate. Taking a sample of 100 employee with average age being 37 and level of significance is 0.05.__"
   ]
  },
  {
   "cell_type": "markdown",
   "metadata": {},
   "source": [
    "__Statement 2:- The average hike of employee is 15 with standard deviation of 12. A researcher believe that if percentage salary hike of 20 then there is higher attrition by taking a sample of 100 sample employees.__"
   ]
  },
  {
   "cell_type": "markdown",
   "metadata": {},
   "source": [
    "__Statement 3:- The average home distance of people from company is 9km. A researcher belive that if home distance of people from company is 9km then most of the people leaving the company by taking 100 sample employees.__"
   ]
  },
  {
   "cell_type": "markdown",
   "metadata": {},
   "source": [
    "__Statement 4:- The average TrainingTimesLastYear of employees is 2.The researcher believes that if trainingTimesLastYear of employee is more than 2 higher attrition rate has been observed by taking a sample of 100 employees.__"
   ]
  },
  {
   "cell_type": "markdown",
   "metadata": {},
   "source": [
    "__Statement 5:- The average number of company work is 3 years with standard deviation 3. A reasearcher believe that if an employee work for more than 5 company there is higher attrition by taking a sample of 100 employees and standard deviation is 5.__"
   ]
  },
  {
   "cell_type": "markdown",
   "metadata": {},
   "source": [
    "__Statement 6:- The average of YearsSinceLastPromotion in a company is 2 with standard deviation 3. The researcher believes that if yearsSinceLastPromotion of employee is more than 2 years higher attrition has occured by taking a sample of 100 employees with average yearsSinceLastPromotion is 3.__"
   ]
  },
  {
   "cell_type": "markdown",
   "metadata": {},
   "source": [
    "__Statement 7:- The average working hours in a company is 8hr. A researcher belive that if working hours is greater than 10 hours  there is higher attrition rate by taking 100 sample employees.__"
   ]
  },
  {
   "cell_type": "markdown",
   "metadata": {},
   "source": [
    "__Statement 8:- The average monthly income of a employee is 65000. A researcher belive that if the monthly income less than 45000 then most of the people leaving the company by taking 100 sample employees.__"
   ]
  },
  {
   "cell_type": "markdown",
   "metadata": {},
   "source": [
    "__Statement 9:- The average age of employee in a company is 36. A researcher belive that if the age less than equal to 30 then most of the people leaving the company by taking 100 sample employees.__"
   ]
  },
  {
   "cell_type": "markdown",
   "metadata": {},
   "source": [
    "__Statement 10:- The average home distance of people from company is 9km. A researcher belive that if home distance of people from company is 5km then most of the people stays in the company by taking 100 sample employees.__"
   ]
  },
  {
   "cell_type": "markdown",
   "metadata": {},
   "source": [
    "__Statement 11:- The average work experience of the employee is 12 years. A researcher belive that if work experience of 10 years then most of the people stays in the company by taking 100 sample employees standard deviation 7.__"
   ]
  },
  {
   "cell_type": "code",
   "execution_count": null,
   "metadata": {
    "collapsed": true
   },
   "outputs": [],
   "source": []
  }
 ],
 "metadata": {
  "kernelspec": {
   "display_name": "Python 3",
   "language": "python",
   "name": "python3"
  },
  "language_info": {
   "codemirror_mode": {
    "name": "ipython",
    "version": 3
   },
   "file_extension": ".py",
   "mimetype": "text/x-python",
   "name": "python",
   "nbconvert_exporter": "python",
   "pygments_lexer": "ipython3",
   "version": "3.6.3"
  }
 },
 "nbformat": 4,
 "nbformat_minor": 2
}
