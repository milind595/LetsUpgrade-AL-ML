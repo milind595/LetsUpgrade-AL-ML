{
 "cells": [
  {
   "cell_type": "markdown",
   "metadata": {},
   "source": [
    "# Assignment Day 5 | 10th July 2020"
   ]
  },
  {
   "cell_type": "markdown",
   "metadata": {},
   "source": [
    "__Question 1 :\n",
    "Write a Python program to find the first 20 non-even prime natural numbers.__"
   ]
  },
  {
   "cell_type": "code",
   "execution_count": 20,
   "metadata": {},
   "outputs": [
    {
     "name": "stdout",
     "output_type": "stream",
     "text": [
      "3 5 7 11 13 17 19 23 29 31 37 41 43 47 53 59 61 67 71 73 "
     ]
    }
   ],
   "source": [
    "for num in range(3,74):\n",
    "    if num>1:\n",
    "        for i in range(2,num):\n",
    "            if (num%i)==0:\n",
    "                break\n",
    "        else:\n",
    "            print(num, end = \" \")"
   ]
  },
  {
   "cell_type": "markdown",
   "metadata": {},
   "source": [
    "__Question 2 :\n",
    "Write a Python program to implement 15 functions of string.__"
   ]
  },
  {
   "cell_type": "code",
   "execution_count": 14,
   "metadata": {},
   "outputs": [
    {
     "name": "stdout",
     "output_type": "stream",
     "text": [
      "HELLO, LETSUPGRADE\n",
      "hello, letsupgrade\n",
      "Hello, letsupgrade\n",
      "hello, letsupgrade\n",
      "aaaHello, LetsUpgradeaa\n",
      "3\n",
      "b'Hello, LetsUpgrade'\n",
      "False\n",
      "7\n",
      "False\n",
      "False\n",
      "False\n",
      "False\n",
      "False\n",
      "False\n",
      "H e l l o\n"
     ]
    }
   ],
   "source": [
    "s = \"Hello, LetsUpgrade\"\n",
    "t = \"H\\te\\tl\\tl\\to\"\n",
    "print(s.upper())\n",
    "print(s.lower())\n",
    "print(s.capitalize())\n",
    "print(s.casefold())\n",
    "print(s.center(23, \"a\"))\n",
    "print(s.count(\"e\"))\n",
    "print(s.encode())\n",
    "print(s.endswith(\"a\"))\n",
    "print(s.find(\"LetsUpgrade\"))\n",
    "print(s.isdigit())\n",
    "print(s.isalnum())\n",
    "print(s.isalpha())\n",
    "print(s.isdecimal())\n",
    "print(s.islower())\n",
    "print(s.isnumeric())\n",
    "print(t.expandtabs(2))"
   ]
  },
  {
   "cell_type": "markdown",
   "metadata": {},
   "source": [
    "__Question 3:\n",
    "Write a Python program to check if the given string is a Palindrome or Anagram or None of them.\n",
    "Display the message accordingly to the user.__"
   ]
  },
  {
   "cell_type": "code",
   "execution_count": 15,
   "metadata": {},
   "outputs": [
    {
     "name": "stdout",
     "output_type": "stream",
     "text": [
      "input string 1 :silent\n",
      "input string 2 :listen\n",
      "The given string is anagram\n"
     ]
    }
   ],
   "source": [
    "def isPalindrome(s1): \n",
    "    return s1 == s1[::-1] \n",
    "def isanagram(s1,s2):\n",
    "    return sorted(s1)==sorted(s2)\n",
    " \n",
    "s1 = str(input(\"input string 1 :\"))\n",
    "s2 = str(input(\"input string 2 :\"))\n",
    "ans1 = isPalindrome(s1)\n",
    "ans2 = isanagram(s1,s2)\n",
    "if ans1:\n",
    "    print(\"The given string is a palindrome\")\n",
    "elif ans2:\n",
    "    print(\"The given string is anagram\")\n",
    "else :\n",
    "    print(\"None of the above\")"
   ]
  },
  {
   "cell_type": "markdown",
   "metadata": {
    "collapsed": true
   },
   "source": [
    "__Question 4:\n",
    "Write a Python's user defined function that removes all the additional characters from the string\n",
    "and converts it finally to lower case using built-in lower(). eg: If the string is \"Dr. Darshan Ingle\n",
    "@AI-ML Trainer\", then the output be \"drdarshaningleaimltrainer\".__"
   ]
  },
  {
   "cell_type": "code",
   "execution_count": 16,
   "metadata": {},
   "outputs": [
    {
     "name": "stdout",
     "output_type": "stream",
     "text": [
      "Enter the string Dr. Darshan Ingle @AI-ML Trainer\n",
      "drdarshaningleaimltrainer\n"
     ]
    }
   ],
   "source": [
    "s= input(\"Enter the string \")\n",
    "symbol = [';', ':', '!', \"*\",'@','#','&','.','-'] \n",
    "def remove_special_characters(s):\n",
    "    for i in symbol : \n",
    "        s = s.replace(i, ' ')\n",
    "        s= s.replace(\" \",\"\")\n",
    "    s= s.lower()\n",
    "    print(s)\n",
    "remove_special_characters(s)"
   ]
  },
  {
   "cell_type": "code",
   "execution_count": null,
   "metadata": {
    "collapsed": true
   },
   "outputs": [],
   "source": []
  }
 ],
 "metadata": {
  "kernelspec": {
   "display_name": "Python 3",
   "language": "python",
   "name": "python3"
  },
  "language_info": {
   "codemirror_mode": {
    "name": "ipython",
    "version": 3
   },
   "file_extension": ".py",
   "mimetype": "text/x-python",
   "name": "python",
   "nbconvert_exporter": "python",
   "pygments_lexer": "ipython3",
   "version": "3.6.3"
  }
 },
 "nbformat": 4,
 "nbformat_minor": 2
}
