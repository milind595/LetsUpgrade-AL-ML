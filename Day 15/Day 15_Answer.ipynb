{
 "cells": [
  {
   "cell_type": "markdown",
   "metadata": {},
   "source": [
    "# 1. Create a 3x3x3 array with random values "
   ]
  },
  {
   "cell_type": "code",
   "execution_count": 2,
   "metadata": {},
   "outputs": [
    {
     "name": "stdout",
     "output_type": "stream",
     "text": [
      "The Array is:- \n",
      "[[[  1.29322153e-311   1.29318086e-311   1.69121096e-306]\n",
      "  [  7.56605919e-307   1.89146896e-307   1.37961302e-306]\n",
      "  [  1.05699242e-307   8.01097889e-307   1.78020169e-306]]\n",
      "\n",
      " [[  7.56601165e-307   1.02359984e-306   1.33510679e-306]\n",
      "  [  2.22522597e-306   1.24611674e-306   1.29061821e-306]\n",
      "  [  6.23057349e-307   2.22522597e-306   1.06810268e-306]]\n",
      "\n",
      " [[  6.23052935e-307   1.29062025e-306   6.89807188e-307]\n",
      "  [  1.42418172e-306   1.37961641e-306   1.22383391e-307]\n",
      "  [  8.45610231e-307   2.46151512e-312   1.29319703e-311]]]\n",
      "The Shape of Array is:- \n",
      "(3, 3, 3)\n"
     ]
    }
   ],
   "source": [
    "#creating a random array of order 3X3X3\n",
    "import numpy as np\n",
    "a=np.empty((3,3,3))\n",
    "print(\"The Array is:- \")\n",
    "print(a)\n",
    "print(\"The Shape of Array is:- \")\n",
    "print(a.shape)"
   ]
  },
  {
   "cell_type": "markdown",
   "metadata": {},
   "source": [
    "# 2.Create a 5x5 matrix with values 1,2,3,4 just below the diagonal"
   ]
  },
  {
   "cell_type": "code",
   "execution_count": 3,
   "metadata": {},
   "outputs": [
    {
     "name": "stdout",
     "output_type": "stream",
     "text": [
      "Initial matrix:- \n",
      "[[ 0.  0.  0.  0.  0.]\n",
      " [ 0.  0.  0.  0.  0.]\n",
      " [ 0.  0.  0.  0.  0.]\n",
      " [ 0.  0.  0.  0.  0.]\n",
      " [ 0.  0.  0.  0.  0.]]\n",
      "Final matrix-\n",
      "[[ 0.  0.  0.  0.  0.]\n",
      " [ 1.  0.  0.  0.  0.]\n",
      " [ 0.  2.  0.  0.  0.]\n",
      " [ 0.  0.  3.  0.  0.]\n",
      " [ 0.  0.  0.  4.  0.]]\n"
     ]
    }
   ],
   "source": [
    "b=np.zeros((5,5))\n",
    "print(\"Initial matrix:- \")\n",
    "print(b)\n",
    "for i in range(len(b)):\n",
    "    for j in range(len(b)):\n",
    "        if(i==j+1):\n",
    "            b[i][j]=i\n",
    "print(\"Final matrix-\")\n",
    "print(b)"
   ]
  },
  {
   "cell_type": "markdown",
   "metadata": {},
   "source": [
    "# 3.Create a 8x8 matrix and fill it with a checkerboard pattern"
   ]
  },
  {
   "cell_type": "code",
   "execution_count": 4,
   "metadata": {},
   "outputs": [
    {
     "name": "stdout",
     "output_type": "stream",
     "text": [
      "Initial Matrix-\n",
      "[[ 0.  0.  0.  0.  0.  0.  0.  0.]\n",
      " [ 0.  0.  0.  0.  0.  0.  0.  0.]\n",
      " [ 0.  0.  0.  0.  0.  0.  0.  0.]\n",
      " [ 0.  0.  0.  0.  0.  0.  0.  0.]\n",
      " [ 0.  0.  0.  0.  0.  0.  0.  0.]\n",
      " [ 0.  0.  0.  0.  0.  0.  0.  0.]\n",
      " [ 0.  0.  0.  0.  0.  0.  0.  0.]\n",
      " [ 0.  0.  0.  0.  0.  0.  0.  0.]]\n",
      "Final Matrix-\n",
      "[[   0.  255.    0.  255.    0.  255.    0.  255.]\n",
      " [   0.  255.    0.  255.    0.  255.    0.  255.]\n",
      " [   0.  255.    0.  255.    0.  255.    0.  255.]\n",
      " [   0.  255.    0.  255.    0.  255.    0.  255.]\n",
      " [   0.  255.    0.  255.    0.  255.    0.  255.]\n",
      " [   0.  255.    0.  255.    0.  255.    0.  255.]\n",
      " [   0.  255.    0.  255.    0.  255.    0.  255.]\n",
      " [   0.  255.    0.  255.    0.  255.    0.  255.]]\n"
     ]
    }
   ],
   "source": [
    "c=np.zeros((8,8)) \n",
    "print(\"Initial Matrix-\")\n",
    "print(c)\n",
    "for i in range(len(c)):\n",
    "    for j in range(len(c)):\n",
    "        if(j%2!=0):\n",
    "            c[i][j]=255\n",
    "print(\"Final Matrix-\")\n",
    "print(c)"
   ]
  },
  {
   "cell_type": "markdown",
   "metadata": {},
   "source": [
    "# 4. Normalize a 5x5 random matrix"
   ]
  },
  {
   "cell_type": "code",
   "execution_count": 5,
   "metadata": {},
   "outputs": [
    {
     "name": "stdout",
     "output_type": "stream",
     "text": [
      "The random matrix is-\n",
      "[[-1.36457019 -1.03285915  1.23054242  0.96380953 -0.31386854]\n",
      " [ 1.19060103  1.5354178   0.4369088   0.40753242  0.86841132]\n",
      " [-0.48831976 -0.14028895 -0.12270685  0.11743252 -0.26405524]\n",
      " [ 0.47845783 -1.0819181  -0.72866937 -0.73871463  0.83036738]\n",
      " [ 0.66207721  1.40673535 -0.71442935  1.07105435 -0.0998645 ]]\n",
      "The norm value of random matrix is-\n",
      "4.23837380281\n",
      "The normalized random mattrix is-\n",
      "[[-0.32195608 -0.24369232  0.29033362  0.22740079 -0.074054  ]\n",
      " [ 0.28090987  0.36226578  0.10308407  0.09615302  0.20489257]\n",
      " [-0.11521394 -0.03309971 -0.0289514   0.02770698 -0.06230107]\n",
      " [ 0.11288712 -0.25526727 -0.17192192 -0.174292    0.1959165 ]\n",
      " [ 0.1562102   0.3319045  -0.16856214  0.25270408 -0.02356199]]\n"
     ]
    }
   ],
   "source": [
    "\n",
    "d=np.random.randn(5,5)\n",
    "print(\"The random matrix is-\")\n",
    "print(d)\n",
    "normal=np.linalg.norm(d)\n",
    "print(\"The norm value of random matrix is-\")\n",
    "print(normal)\n",
    "e=np.divide(d,normal)\n",
    "print(\"The normalized random mattrix is-\")\n",
    "print(e)"
   ]
  },
  {
   "cell_type": "markdown",
   "metadata": {},
   "source": [
    "# 5.  How to find common values between two arrays?"
   ]
  },
  {
   "cell_type": "code",
   "execution_count": 6,
   "metadata": {},
   "outputs": [
    {
     "name": "stdout",
     "output_type": "stream",
     "text": [
      "The 1st array is-\n",
      "[1 2 3 4 5]\n",
      "The 2nd array is-\n",
      "[ 2  4  6  8 10]\n",
      "Common values between two arrays are-\n",
      "[2 4]\n"
     ]
    }
   ],
   "source": [
    "\n",
    "f=np.array([1,2,3,4,5])\n",
    "print(\"The 1st array is-\")\n",
    "print(f)\n",
    "g=np.array([2,4,6,8,10])\n",
    "print(\"The 2nd array is-\")\n",
    "print(g)\n",
    "com_values=np.intersect1d(f,g)\n",
    "print(\"Common values between two arrays are-\")\n",
    "print(com_values)"
   ]
  },
  {
   "cell_type": "markdown",
   "metadata": {},
   "source": [
    "# 6.How to get the dates of yesterday, today and tomorrow?"
   ]
  },
  {
   "cell_type": "code",
   "execution_count": 7,
   "metadata": {},
   "outputs": [
    {
     "name": "stdout",
     "output_type": "stream",
     "text": [
      "Yestraday's Date:  2020-07-25\n",
      "Today's Date:  2020-07-26\n",
      "Tomorrow's Date:  2020-07-27\n"
     ]
    }
   ],
   "source": [
    "yesterday =np.datetime64('today', 'D') - np.timedelta64(1, 'D')\n",
    "print(\"Yestraday's Date: \",yesterday)\n",
    "today= np.datetime64('today', 'D')\n",
    "print(\"Today's Date: \",today)\n",
    "tomorrow= np.datetime64('today', 'D') + np.timedelta64(1, 'D')\n",
    "print(\"Tomorrow's Date: \",tomorrow)"
   ]
  },
  {
   "cell_type": "markdown",
   "metadata": {},
   "source": [
    "# 7. Consider two random array A and B, check if they are equal"
   ]
  },
  {
   "cell_type": "code",
   "execution_count": 10,
   "metadata": {},
   "outputs": [
    {
     "name": "stdout",
     "output_type": "stream",
     "text": [
      "First array:\n",
      "[1 0 0 1]\n",
      "Second array:\n",
      "[1 0 1 1]\n",
      "Test above two arrays are equal or not!\n",
      "False\n"
     ]
    }
   ],
   "source": [
    "x = np.random.randint(0,2,4)\n",
    "print(\"First array:\")\n",
    "print(x)\n",
    "y = np.random.randint(0,2,4)\n",
    "print(\"Second array:\")\n",
    "print(y)\n",
    "print(\"Test above two arrays are equal or not!\")\n",
    "array_equal = np.allclose(x, y)\n",
    "print(array_equal)"
   ]
  },
  {
   "cell_type": "markdown",
   "metadata": {},
   "source": [
    "# 8.Create random vector of size 10 and replace the maximum value by 0 "
   ]
  },
  {
   "cell_type": "code",
   "execution_count": 11,
   "metadata": {},
   "outputs": [
    {
     "name": "stdout",
     "output_type": "stream",
     "text": [
      "Original array:\n",
      "[ 0.37531281  0.96725992  0.99886742  0.61679049  0.9700367   0.57838305\n",
      "  0.5150863   0.69964286  0.15732418  0.42483445]\n",
      "Maximum value replaced by 0:\n",
      "[ 0.37531281  0.96725992  0.          0.61679049  0.9700367   0.57838305\n",
      "  0.5150863   0.69964286  0.15732418  0.42483445]\n"
     ]
    }
   ],
   "source": [
    "x = np.random.random(10)\n",
    "print(\"Original array:\")\n",
    "print(x)\n",
    "x[x.argmax()] = 0\n",
    "print(\"Maximum value replaced by 0:\")\n",
    "print(x)"
   ]
  },
  {
   "cell_type": "markdown",
   "metadata": {},
   "source": [
    "# 9. How to print all the values of an array?"
   ]
  },
  {
   "cell_type": "code",
   "execution_count": 12,
   "metadata": {},
   "outputs": [
    {
     "name": "stdout",
     "output_type": "stream",
     "text": [
      "1\n",
      "2\n",
      "3\n",
      "4\n",
      "5\n",
      "6\n",
      "7\n",
      "8\n",
      "9\n",
      "10\n"
     ]
    }
   ],
   "source": [
    "import numpy as np\n",
    "a=np.array([1,2,3,4,5,6,7,8,9,10])\n",
    "for i in range(len(a)):\n",
    "    print(a[i])"
   ]
  },
  {
   "cell_type": "markdown",
   "metadata": {},
   "source": [
    "# 10.Subtract the mean of each row of a matrix"
   ]
  },
  {
   "cell_type": "code",
   "execution_count": 16,
   "metadata": {},
   "outputs": [
    {
     "name": "stdout",
     "output_type": "stream",
     "text": [
      "The matrix is-\n",
      "[[ 1.0931384   1.45917015  0.41140091]\n",
      " [ 1.1789485  -0.49349761 -1.42308115]\n",
      " [ 1.02520829  0.1225564   0.9932024 ]]\n",
      "The matrix after the mean is subtracted-\n",
      "[[ 0.71901698  1.70443759  0.43551589]\n",
      " [ 0.80482708 -0.24823017 -1.39896617]\n",
      " [ 0.65108688  0.36782384  1.01731738]]\n"
     ]
    }
   ],
   "source": [
    "arr=np.random.randn(3,3)\n",
    "print(\"The matrix is-\")\n",
    "print(arr)\n",
    "arr2=arr-arr1\n",
    "print(\"The matrix after the mean is subtracted-\")\n",
    "print(arr2)"
   ]
  },
  {
   "cell_type": "markdown",
   "metadata": {},
   "source": [
    "# 11.Consider a given vector, how to add 1 to each element indexed by a second vector (be careful with repeated indices)? "
   ]
  },
  {
   "cell_type": "code",
   "execution_count": 4,
   "metadata": {},
   "outputs": [
    {
     "name": "stdout",
     "output_type": "stream",
     "text": [
      "The original vector is:\n",
      "[[ 0.26923079]\n",
      " [ 3.01257086]\n",
      " [ 0.67404262]\n",
      " [-0.22351919]\n",
      " [ 2.14695945]\n",
      " [-0.80099751]\n",
      " [-0.4739089 ]\n",
      " [ 2.2033309 ]\n",
      " [-0.2435668 ]\n",
      " [ 0.40562673]]\n",
      "The Index values obtained are:\n",
      "[8 6 1 9]\n",
      "The final unique index values are:\n",
      "[1 6 8 9]\n",
      "Final vector after adding 1 to corresponding elements at the specified indices:\n",
      "[[ 0.26923079]\n",
      " [ 4.01257086]\n",
      " [ 0.67404262]\n",
      " [-0.22351919]\n",
      " [ 2.14695945]\n",
      " [-0.80099751]\n",
      " [ 0.5260911 ]\n",
      " [ 2.2033309 ]\n",
      " [ 0.7564332 ]\n",
      " [ 1.40562673]]\n"
     ]
    }
   ],
   "source": [
    "Z = np.random.randn(10,1)\n",
    "print(\"The original vector is:\")\n",
    "print(Z)\n",
    "I=np.random.randint(0,len(Z),4)\n",
    "print(\"The Index values obtained are:\")\n",
    "print(I)\n",
    "J=np.unique(I,axis=0)\n",
    "print(\"The final unique index values are:\")\n",
    "print(J)\n",
    "print(\"Final vector after adding 1 to corresponding elements at the specified indices:\")\n",
    "np.add.at(Z,J,1)\n",
    "print(Z)"
   ]
  },
  {
   "cell_type": "markdown",
   "metadata": {},
   "source": [
    "# 12.How to get the diagonal of a dot product?"
   ]
  },
  {
   "cell_type": "code",
   "execution_count": 6,
   "metadata": {},
   "outputs": [
    {
     "name": "stdout",
     "output_type": "stream",
     "text": [
      "The first 3X3 array is- \n",
      "[[ 0.98877471  1.07416036 -0.81840731]\n",
      " [-1.30651032  1.49289554 -1.09600241]\n",
      " [-1.9858579  -0.51793635  0.62492783]]\n",
      "The second 3X3 array is- \n",
      "[[ 1.21852412  0.46471014  0.14759425]\n",
      " [ 0.43668846  1.30428239  0.29511265]\n",
      " [-0.4620582   0.28733278  0.85084519]]\n",
      "The corresponding dot product is- \n",
      "[[ 2.05207108  1.62534683 -0.23340215]\n",
      " [-0.43366719  1.02509135 -0.68478942]\n",
      " [-2.93474561 -1.41882131  0.08576606]]\n",
      "The corresponding diagnol elements are- \n",
      "[ 2.05207108  1.02509135  0.08576606]\n"
     ]
    }
   ],
   "source": [
    "u=np.random.randn(3,3)\n",
    "print(\"The first 3X3 array is- \")\n",
    "print(u)\n",
    "v=np.random.randn(3,3)\n",
    "print(\"The second 3X3 array is- \")\n",
    "print(v)\n",
    "w=np.dot(u,v)\n",
    "print(\"The corresponding dot product is- \")\n",
    "print(w)\n",
    "z=np.diag(w)\n",
    "print(\"The corresponding diagnol elements are- \")\n",
    "print(z)"
   ]
  },
  {
   "cell_type": "markdown",
   "metadata": {},
   "source": [
    "# 13.How to find the most frequent value in an array?"
   ]
  },
  {
   "cell_type": "code",
   "execution_count": 20,
   "metadata": {},
   "outputs": [
    {
     "name": "stdout",
     "output_type": "stream",
     "text": [
      "Original array:\n",
      "[ 1  2  3  4  5  6  7 53  5  7  8  8  7 65  4  3  6 54 52]\n",
      "Most frequent value in the x array:\n",
      "7\n"
     ]
    }
   ],
   "source": [
    "x = np.array([1,2,3,4,5,6,7,53,5,7,8,8,7,65,4,3,6,54,52])\n",
    "print(\"Original array:\")\n",
    "print(x)\n",
    "print(\"Most frequent value in the x array:\")\n",
    "print(np.bincount(x).argmax())"
   ]
  },
  {
   "cell_type": "markdown",
   "metadata": {},
   "source": [
    "# 14.How to get the n largest values of an array"
   ]
  },
  {
   "cell_type": "code",
   "execution_count": 23,
   "metadata": {},
   "outputs": [
    {
     "name": "stdout",
     "output_type": "stream",
     "text": [
      "Enter the value of n:32\n",
      "The 32 largest value of the array are:\n",
      "[83 80 75 85 82 78 92 99 76 86 89 90 88 97 94 79 98 84 91 96 95 77 93 74 73\n",
      " 87 71 81 72 70 69 68]\n"
     ]
    }
   ],
   "source": [
    "M=np.arange(100)\n",
    "np.random.shuffle(M)\n",
    "n=int(input(\"Enter the value of n:\"))\n",
    "print(\"The\",n,\"largest value of the array are:\")\n",
    "print (M[np.argpartition(-M,n)[:n]])"
   ]
  },
  {
   "cell_type": "markdown",
   "metadata": {},
   "source": [
    "# 15.How to create a record array from a regular array?"
   ]
  },
  {
   "cell_type": "code",
   "execution_count": 11,
   "metadata": {},
   "outputs": [
    {
     "name": "stdout",
     "output_type": "stream",
     "text": [
      "Original array:\n",
      "[['John' '32' '43']\n",
      " ['Undertaker' '45' '32']\n",
      " ['Randy' '77' '78']]\n",
      "\n",
      "Record array:\n",
      "[(b'John',  32., 43) (b'Undertaker',  45., 32) (b'Randy',  77., 78)]\n"
     ]
    },
    {
     "data": {
      "text/plain": [
       "numpy.recarray"
      ]
     },
     "execution_count": 11,
     "metadata": {},
     "output_type": "execute_result"
    }
   ],
   "source": [
    "reg_arr = np.array([[\"John\", 32, 43],[\"Undertaker\", 45, 32],[\"Randy\", 77, 78]])#generates a 2D array\n",
    "print(\"Original array:\")\n",
    "print(reg_arr)\n",
    "print(\"\\nRecord array:\")\n",
    "rec_arr = np.core.records.fromarrays(reg_arr.T,names='col1, col2, col3',formats = 'S80, f8, i8')# generates a reccord array\n",
    "print(rec_arr)\n",
    "type(rec_arr)"
   ]
  },
  {
   "cell_type": "code",
   "execution_count": null,
   "metadata": {
    "collapsed": true
   },
   "outputs": [],
   "source": []
  }
 ],
 "metadata": {
  "kernelspec": {
   "display_name": "Python 3",
   "language": "python",
   "name": "python3"
  },
  "language_info": {
   "codemirror_mode": {
    "name": "ipython",
    "version": 3
   },
   "file_extension": ".py",
   "mimetype": "text/x-python",
   "name": "python",
   "nbconvert_exporter": "python",
   "pygments_lexer": "ipython3",
   "version": "3.6.3"
  }
 },
 "nbformat": 4,
 "nbformat_minor": 2
}
